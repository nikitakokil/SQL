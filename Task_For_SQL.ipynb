{
 "cells": [
  {
   "cell_type": "markdown",
   "id": "5aadd77c",
   "metadata": {},
   "source": [
    "1.Calculate the total Sale_Amount for each Product_Name\n",
    "SELECT Product_Name, SUM(Sale_Amount) AS Total_Sales\n",
    "FROM Sales\n",
    "GROUP BY Product_Name;"
   ]
  },
  {
   "cell_type": "markdown",
   "id": "c29e1101",
   "metadata": {},
   "source": [
    "2.Find the day with the highest total sales, including the total amount sold that day\n",
    "SELECT Sale_Date, SUM(Sale_Amount) AS Total_Sales\n",
    "FROM Sales\n",
    "GROUP BY Sale_Date\n",
    "ORDER BY Total_Sales DESC\n",
    "LIMIT 1;"
   ]
  },
  {
   "cell_type": "markdown",
   "id": "c63ff5fa",
   "metadata": {},
   "source": [
    "3.Write a query to calculate the average sale amount per product.\n",
    "SELECT Product_Name, AVG(Sale_Amount) AS Avg_Sale_Amount\n",
    "FROM Sales\n",
    "GROUP BY Product_Name;"
   ]
  },
  {
   "cell_type": "markdown",
   "id": "91379ab8",
   "metadata": {},
   "source": [
    "4.Identify any products that have an average sale amount above $800.\n",
    "SELECT Product_Name, AVG(Sale_Amount) AS Avg_Sale_Amount\n",
    "FROM Sales\n",
    "GROUP BY Product_Name\n",
    "HAVING AVG(Sale_Amount) > 800;"
   ]
  },
  {
   "cell_type": "markdown",
   "id": "bc47c30c",
   "metadata": {},
   "source": [
    "5. Comments on sales performance and identifying trends:\n",
    "Total Sale Amount per Product: This provides a clear picture of which products are selling the most.\n",
    "Day with Highest Total Sales: Helps in identifying peak sales days, possibly indicating events or promotions that were successful.\n",
    "Average Sale Amount per Product: Gives insights into the typical purchase amount for each product.\n",
    "Products with Average Sale Amount > $800: These products might be higher-priced items or have a premium brand value.\n",
    "Sales Performance and Trends: By analyzing the total sales, average sale amounts, and identifying products with high average sale amounts, we can assess the performance of each product. Trends such as seasonal variations, popularity of certain products over time, or the impact of promotions can also be observed from the data."
   ]
  }
 ],
 "metadata": {
  "kernelspec": {
   "display_name": "Python 3 (ipykernel)",
   "language": "python",
   "name": "python3"
  },
  "language_info": {
   "codemirror_mode": {
    "name": "ipython",
    "version": 3
   },
   "file_extension": ".py",
   "mimetype": "text/x-python",
   "name": "python",
   "nbconvert_exporter": "python",
   "pygments_lexer": "ipython3",
   "version": "3.9.12"
  }
 },
 "nbformat": 4,
 "nbformat_minor": 5
}
